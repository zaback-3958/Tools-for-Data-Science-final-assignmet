{
 "cells": [
  {
   "cell_type": "markdown",
   "id": "6fbfed93",
   "metadata": {},
   "source": [
    "# Data Science Tools and Ecosystem"
   ]
  },
  {
   "cell_type": "markdown",
   "id": "3bdbea5c",
   "metadata": {},
   "source": [
    "## Author: \n",
    "\n",
    "Zahra Aback"
   ]
  },
  {
   "cell_type": "markdown",
   "id": "1a1f0b66",
   "metadata": {},
   "source": [
    "In this notebook, Data Science Tools and Ecosystem are summarized. we are going to explore few of these tools in this exercise."
   ]
  },
  {
   "cell_type": "markdown",
   "id": "975c13e8",
   "metadata": {},
   "source": [
    "**Objectives**\n",
    "\n",
    "- Introduction to popular languages for Data Science\n",
    "- Introduction to data science tools\n",
    "- Most popular packages for data science,\n",
    "- Learn bout data sets and models\n",
    "- IBM tools for data science such as IBM Watson studio\n",
    "- Other IBM tools for data science such as IBM SPSS Modeler\n",
    " "
   ]
  },
  {
   "cell_type": "markdown",
   "id": "ff49f548",
   "metadata": {},
   "source": [
    "Some of the popular languages that Data Scientists use are: \n",
    "\n",
    "1. Python\n",
    "1. R\n",
    "1. SQL\n",
    "1. Java\n",
    "1. Julia"
   ]
  },
  {
   "cell_type": "markdown",
   "id": "3b72e071",
   "metadata": {},
   "source": [
    "Some of the commonly used libraries used by Data Scientists include:\n",
    "1. NumPy\n",
    "1. Pandas\n",
    "1. Matplotlib\n",
    "1. Scikit-learn\n",
    "1. Seaborn\n",
    "1. TensorFlow\n",
    "1. PyTorch"
   ]
  },
  {
   "cell_type": "markdown",
   "id": "7a2f440e",
   "metadata": {},
   "source": [
    "Data Science tools:|\n",
    ":-------------------|\n",
    "  Jupyter Notebook |\n",
    "  RStudio          |\n",
    "  Spyder           |\n"
   ]
  },
  {
   "cell_type": "markdown",
   "id": "43a07e23",
   "metadata": {},
   "source": [
    "### Below are a few examples of evaluating arithmetic expressions in Python"
   ]
  },
  {
   "cell_type": "code",
   "execution_count": 1,
   "id": "6fb432f9",
   "metadata": {},
   "outputs": [
    {
     "data": {
      "text/plain": [
       "17"
      ]
     },
     "execution_count": 1,
     "metadata": {},
     "output_type": "execute_result"
    }
   ],
   "source": [
    "# This a simple arithmetic expression to mutiply then add integers\n",
    "\n",
    "(3*4)+5\n"
   ]
  },
  {
   "cell_type": "code",
   "execution_count": 3,
   "id": "84bdb8b7",
   "metadata": {},
   "outputs": [
    {
     "data": {
      "text/plain": [
       "3.3333333333333335"
      ]
     },
     "execution_count": 3,
     "metadata": {},
     "output_type": "execute_result"
    }
   ],
   "source": [
    "# This will convert 200 minutes to hours by diving by 60\n",
    "\n",
    "hours = (200/60)\n",
    "\n",
    "hours"
   ]
  },
  {
   "cell_type": "code",
   "execution_count": null,
   "id": "56b1a953",
   "metadata": {},
   "outputs": [],
   "source": []
  }
 ],
 "metadata": {
  "kernelspec": {
   "display_name": "Python 3 (ipykernel)",
   "language": "python",
   "name": "python3"
  },
  "language_info": {
   "codemirror_mode": {
    "name": "ipython",
    "version": 3
   },
   "file_extension": ".py",
   "mimetype": "text/x-python",
   "name": "python",
   "nbconvert_exporter": "python",
   "pygments_lexer": "ipython3",
   "version": "3.10.6"
  }
 },
 "nbformat": 4,
 "nbformat_minor": 5
}
